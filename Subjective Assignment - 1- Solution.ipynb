{
 "cells": [
  {
   "cell_type": "markdown",
   "metadata": {},
   "source": [
    "Q1. Write a Python program to get the string from the given string where\n",
    "all the occurrence of its first char has been changed to '$,' except first\n",
    "char itself?\n",
    "\n",
    "    Sample String: 'prospect'\n",
    "    Expected Result : 'pros$ect'\n"
   ]
  },
  {
   "cell_type": "code",
   "execution_count": 3,
   "metadata": {},
   "outputs": [
    {
     "name": "stdout",
     "output_type": "stream",
     "text": [
      "Enter the string:raspberry pi\n",
      "raspbe$$y $i\n"
     ]
    }
   ],
   "source": [
    "lst=[]\n",
    "\n",
    "s=input('Enter the string:')\n",
    "for ch in s:\n",
    "    if ch in lst:\n",
    "        lst.append('$')\n",
    "    else:\n",
    "        lst.append(ch)\n",
    "print(''.join(str(i) for i in lst))"
   ]
  },
  {
   "cell_type": "markdown",
   "metadata": {},
   "source": [
    "Q2. Write a Python program to get the single string from the two given\n",
    "strings, and separated by the space and swap the first two characters of\n",
    "each string?\n",
    "\n",
    "    Sample String : 'abc', 'xyz'.\n",
    "    Expected Result: 'xyc abz'"
   ]
  },
  {
   "cell_type": "code",
   "execution_count": 15,
   "metadata": {},
   "outputs": [
    {
     "name": "stdout",
     "output_type": "stream",
     "text": [
      "enter the string:abc\n",
      "enter the second string:xyz\n",
      "'xyz abc'\n"
     ]
    }
   ],
   "source": [
    "first_string=input('enter the string:')\n",
    "second_string=input('enter the second string:')\n",
    "\n",
    "result=second_string+' '+first_string\n",
    "print(\"'\"+result+\"'\")"
   ]
  },
  {
   "cell_type": "markdown",
   "metadata": {},
   "source": [
    "Q3. Write the Python program to add 'ing' at the end of the given string\n",
    "(length of the string should be at least 3). If given string already ends\n",
    "with 'ing,' then add 'ly' instead. If string length of the given string is less\n",
    "than 3, leave it unchanged?\n",
    "\n",
    "\n",
    "    Sample string: ' abc '\n",
    "    Expected result: ' abcing '\n",
    "    Sample string: ' string '\n",
    "    Expected result: ' stringly '\n"
   ]
  },
  {
   "cell_type": "code",
   "execution_count": 19,
   "metadata": {},
   "outputs": [
    {
     "name": "stdout",
     "output_type": "stream",
     "text": [
      "enter the string:abc\n",
      "abcing\n"
     ]
    }
   ],
   "source": [
    "strng=input(\"enter the string:\")\n",
    "\n",
    "if len(strng) > 2:\n",
    "    if strng[-3:] == 'ing':\n",
    "        strng=strng+'ly'\n",
    "    else:\n",
    "        strng=strng+'ing'\n",
    "print(strng)\n"
   ]
  },
  {
   "cell_type": "markdown",
   "metadata": {},
   "source": [
    "Q4. Write the Python program to find the first appearance of the\n",
    "substring 'not' and 'poor' from the given string, if 'not' follows the 'poor',\n",
    "replace the whole 'not'...' poor' substring with 'good'.Return the resulting\n",
    "string.\n",
    "\n",
    "    Sample string: 'The lyrics are not that poor!'\n",
    "    'The lyrics are poor!'\n",
    "    Expected Result: 'The lyrics are good!'\n",
    "    'The lyrics are poor!'"
   ]
  },
  {
   "cell_type": "code",
   "execution_count": 25,
   "metadata": {},
   "outputs": [
    {
     "name": "stdout",
     "output_type": "stream",
     "text": [
      "The lyrics are good!\n",
      "The lyrics are poor!\n"
     ]
    }
   ],
   "source": [
    "def not_poor(str1):\n",
    "  snot = str1.find('not')\n",
    "  spoor = str1.find('poor')\n",
    "  \n",
    "\n",
    "  if spoor > snot and snot>0 and spoor>0:\n",
    "    str1 = str1.replace(str1[snot:(spoor+4)], 'good')\n",
    "    return str1\n",
    "  else:\n",
    "    return str1\n",
    "print(not_poor('The lyrics are not that poor!'))\n",
    "print(not_poor('The lyrics are poor!'))"
   ]
  },
  {
   "cell_type": "markdown",
   "metadata": {},
   "source": [
    "Q5. Write the Python program to remove the characters which have odd\n",
    "index values of a given string."
   ]
  },
  {
   "cell_type": "code",
   "execution_count": 39,
   "metadata": {},
   "outputs": [
    {
     "name": "stdout",
     "output_type": "stream",
     "text": [
      "enter the input string:ineuron\n",
      "iern\n"
     ]
    }
   ],
   "source": [
    "inp=input(\"enter the input string:\")\n",
    "result= ''\n",
    "for i in range(len(inp)):\n",
    "    if i%2==0:\n",
    "        result=result+inp[i]\n",
    "print(result)"
   ]
  },
  {
   "cell_type": "markdown",
   "metadata": {},
   "source": [
    "Q6. Write the python program to print the following floating numbers up\n",
    "to 2 decimal places?"
   ]
  },
  {
   "cell_type": "code",
   "execution_count": 4,
   "metadata": {},
   "outputs": [
    {
     "name": "stdout",
     "output_type": "stream",
     "text": [
      "enter the number:3.2345\n",
      "3.235\n"
     ]
    }
   ],
   "source": [
    "x=float(input('enter the number:'))\n",
    "\n",
    "print ('%.3f'%x)"
   ]
  },
  {
   "cell_type": "markdown",
   "metadata": {},
   "source": [
    "Q7. Write the Python program to format a number with a percentage?"
   ]
  },
  {
   "cell_type": "code",
   "execution_count": 7,
   "metadata": {},
   "outputs": [
    {
     "name": "stdout",
     "output_type": "stream",
     "text": [
      "enter the number:0.444\n",
      "Number with percentage:44.400%\n"
     ]
    }
   ],
   "source": [
    "num=float(input('enter the number:'))\n",
    "\n",
    "\n",
    "print('Number with percentage:'+\"{:.3%}\".format(num))\n"
   ]
  },
  {
   "cell_type": "markdown",
   "metadata": {},
   "source": [
    "Q8. Write the Python program to count occurrences of a substring in a\n",
    "String?"
   ]
  },
  {
   "cell_type": "code",
   "execution_count": 8,
   "metadata": {},
   "outputs": [
    {
     "name": "stdout",
     "output_type": "stream",
     "text": [
      "6\n"
     ]
    }
   ],
   "source": [
    "string='Python program to count occurrences of a substring in a a a a string'\n",
    "\n",
    "print(string.count('a'))"
   ]
  },
  {
   "cell_type": "markdown",
   "metadata": {},
   "source": [
    "Q9. Write the Python program to count repeated characters in a string.\n",
    "\n",
    "    Sample string: ' thequickbrownjumpsoverthelazydog '\n",
    "    \n",
    "    Expected output:\n",
    "    o 3\n",
    "    e 3\n",
    "    u 2\n",
    "    h 2\n",
    "    r 2\n",
    "    t 2"
   ]
  },
  {
   "cell_type": "code",
   "execution_count": 19,
   "metadata": {},
   "outputs": [
    {
     "name": "stdout",
     "output_type": "stream",
     "text": [
      "o 4\n",
      "e 3\n",
      "t 2\n",
      "h 2\n",
      "u 2\n",
      "r 2\n"
     ]
    }
   ],
   "source": [
    "import collections\n",
    "str1 = 'thequickbrownfoxjumpsoverthelazydog'\n",
    "d = collections.defaultdict(int)\n",
    "for c in str1:\n",
    "    d[c] += 1\n",
    "\n",
    "for c in sorted(d, key=d.get, reverse=True):\n",
    "  if d[c] > 1:\n",
    "      print('%s %d' % (c, d[c]))"
   ]
  },
  {
   "cell_type": "markdown",
   "metadata": {},
   "source": [
    "Q10. Write the Python program to print the square and cube symbol in\n",
    "the area of a rectangle and volume of a cylinder?\n",
    "\n",
    "    Sample outputThe area of the rectangle is 1256.66cm2\n",
    "    The volume of the cylinder is 1254.725cm3\n"
   ]
  },
  {
   "cell_type": "code",
   "execution_count": 24,
   "metadata": {},
   "outputs": [
    {
     "name": "stdout",
     "output_type": "stream",
     "text": [
      "The area of the rectangle is 1256.66cm²\n",
      "The volume of the cylinder is 1254.725cm³\n"
     ]
    }
   ],
   "source": [
    "area = 1256.66\n",
    "volume = 1254.725\n",
    "decimals = 2\n",
    "print(\"The area of the rectangle is {0:.{1}f}cm\\u00b2\".format(area, decimals))\n",
    "decimals = 3\n",
    "print(\"The volume of the cylinder is {0:.{1}f}cm\\u00b3\".format(volume, decimals))"
   ]
  },
  {
   "cell_type": "markdown",
   "metadata": {},
   "source": [
    "Q11. Write the Python program to check if a string contains all letters of\n",
    "the alphabet?"
   ]
  },
  {
   "cell_type": "code",
   "execution_count": 26,
   "metadata": {},
   "outputs": [
    {
     "name": "stdout",
     "output_type": "stream",
     "text": [
      "Yes\n"
     ]
    }
   ],
   "source": [
    "import string  \n",
    "def ispangram(str): \n",
    "    alphabet = \"abcdefghijklmnopqrstuvwxyz\"\n",
    "    for char in alphabet: \n",
    "        if char not in str.lower(): \n",
    "            return False\n",
    "    return True\n",
    "string = 'the quick brown fox jumps over the lazy dog'\n",
    "if(ispangram(string) == True): \n",
    "    print(\"Yes\") \n",
    "else: \n",
    "    print(\"No\") "
   ]
  },
  {
   "cell_type": "markdown",
   "metadata": {},
   "source": [
    "Q12. Write the Python program to find the second most repeated word\n",
    "in a given string?"
   ]
  },
  {
   "cell_type": "code",
   "execution_count": 40,
   "metadata": {},
   "outputs": [
    {
     "name": "stdout",
     "output_type": "stream",
     "text": [
      "('to', 6)\n"
     ]
    }
   ],
   "source": [
    "def word_count(str):\n",
    "    counts = dict()\n",
    "    words = str.split()\n",
    "\n",
    "    for word in words:\n",
    "        if word in counts:\n",
    "            counts[word] += 1\n",
    "        else:\n",
    "            counts[word] = 1\n",
    "\n",
    "    counts_x = sorted(counts.items(), key=lambda kv: kv[1])\n",
    "    return counts_x[-2]\n",
    " \n",
    "print(word_count(\"This tumultuous tale of life in a bleak farmhouse on the Yorkshire moors is a popular set text for GCSE and A-level English study, but away from the demands of the classroom it’s easier to enjoy its drama and intensity. Populated largely by characters whose inability to control their own emotions leads to violence and revenge, it’s a tale that spans two generations and two families. At the heart of the story is the mysterious ‘gypsy’, Heathcliff, adopted as a ragamuffin child into the Earnshaw family to live at Wuthering Heights. As he grows up, he becomes close to his adopted sister Cathy, falling in love with her only to be met with crushing disappointment when she marries Edgar Linton, a kind and gentle man from neighbouring Thrushcross Grange. Heathcliff disappears and returns a rich, educated man bent on revenge.\"))\n"
   ]
  },
  {
   "cell_type": "markdown",
   "metadata": {},
   "source": [
    "Q13. Write the Python program to find the minimum window in the given\n",
    "string, which will contains all the characters of another given\n",
    "strings?\n",
    "\n",
    "    Example 1\n",
    "    Input : string1 = \" PRWSOERIUSFK \"\n",
    "    string2 = \" OSU \"\n",
    "    Output: Minimum window is \"OERIUS\""
   ]
  },
  {
   "cell_type": "code",
   "execution_count": 41,
   "metadata": {},
   "outputs": [
    {
     "name": "stdout",
     "output_type": "stream",
     "text": [
      "Original Strings:\n",
      " PRWSOERIUSFK \n",
      " OSU\n",
      "Minimum window:\n",
      "OERIUS\n"
     ]
    }
   ],
   "source": [
    "import collections\n",
    "def min_window(str1, str2):\n",
    "    result_char, missing_char = collections.Counter(str2), len(str2)\n",
    "    i = p = q = 0\n",
    "    for j, c in enumerate(str1, 1):\n",
    "        missing_char -= result_char[c] > 0\n",
    "        result_char[c] -= 1\n",
    "        if not missing_char:\n",
    "            while i < q and result_char[str1[i]] < 0:\n",
    "                result_char[str1[i]] += 1\n",
    "                i += 1\n",
    "            if not q or j - i <= q - p:\n",
    "                p, q = i, j\n",
    "    return str1[p:q]\n",
    "           \n",
    "str1 = \"PRWSOERIUSFK\"\n",
    "str2 = \"OSU\"\n",
    "print(\"Original Strings:\\n\",str1,\"\\n\",str2)\n",
    "print(\"Minimum window:\")\n",
    "print(min_window(str1,str2))"
   ]
  },
  {
   "cell_type": "markdown",
   "metadata": {},
   "source": [
    "Q14. Write the Python program to count number of substrings from a\n",
    "given string of lowercase alphabets with exactly k distinct (given)\n",
    "characters?\n",
    "\n",
    "    Input a string (lowercase alphabets): wolf\n",
    "    Input k: 4\n",
    "    Number of substrings with exactly 4 distinct characters: 1"
   ]
  },
  {
   "cell_type": "code",
   "execution_count": 67,
   "metadata": {},
   "outputs": [
    {
     "name": "stdout",
     "output_type": "stream",
     "text": [
      "Total substrings with exactly 4 distinct characters : 1\n"
     ]
    }
   ],
   "source": [
    "def countkDist(strn, k): \n",
    "    n = len(strn) \n",
    "    res = 0\n",
    "    cnt = [0] * 27\n",
    "    for i in range(0, n): \n",
    "        dist_count = 0 \n",
    "        cnt = [0] * 27\n",
    "        for j in range(i, n):  \n",
    "            if(cnt[ord(strn[j]) - 97] == 0): \n",
    "                dist_count += 1\n",
    "            cnt[ord(strn[j]) - 97] += 1 \n",
    "            if(dist_count == k): \n",
    "                res += 1\n",
    "            if(dist_count > k): \n",
    "                break\n",
    "\n",
    "    return res\n",
    "strn = \"wolf\"\n",
    "k = 4\n",
    "print(\"Total substrings with exactly\", k,  \"distinct characters : \", end = \"\") \n",
    "print(countkDist(strn, k)) "
   ]
  },
  {
   "cell_type": "markdown",
   "metadata": {},
   "source": [
    "Q15. Write the Python program to count number of substrings with same\n",
    "first and last characters of the given string?\n",
    "\n",
    "    Input a string: abcd\n",
    "    4\n"
   ]
  },
  {
   "cell_type": "code",
   "execution_count": 52,
   "metadata": {},
   "outputs": [
    {
     "name": "stdout",
     "output_type": "stream",
     "text": [
      "4\n"
     ]
    }
   ],
   "source": [
    "def checkEquality(s): \n",
    "    return (ord(s[0]) == ord(s[len(s) - 1]))\n",
    "  \n",
    "def countSubstringWithEqualEnds(s): \n",
    "    result = 0 \n",
    "    n = len(s)\n",
    "    for i in range(n):   \n",
    "          for j in range(1,n-i+1): \n",
    "            if (checkEquality(s[i:i+j])): \n",
    "                result+=1 \n",
    "    return result\n",
    "s = \"abcd\"; \n",
    "print(countSubstringWithEqualEnds(s))\n",
    "  "
   ]
  },
  {
   "cell_type": "markdown",
   "metadata": {},
   "source": [
    "## Great Job!"
   ]
  }
 ],
 "metadata": {
  "kernelspec": {
   "display_name": "Python 3",
   "language": "python",
   "name": "python3"
  },
  "language_info": {
   "codemirror_mode": {
    "name": "ipython",
    "version": 3
   },
   "file_extension": ".py",
   "mimetype": "text/x-python",
   "name": "python",
   "nbconvert_exporter": "python",
   "pygments_lexer": "ipython3",
   "version": "3.6.5"
  }
 },
 "nbformat": 4,
 "nbformat_minor": 2
}
